{
  "nbformat": 4,
  "nbformat_minor": 0,
  "metadata": {
    "colab": {
      "provenance": []
    },
    "kernelspec": {
      "name": "python3",
      "display_name": "Python 3"
    },
    "accelerator": "GPU"
  },
  "cells": [
    {
      "cell_type": "markdown",
      "metadata": {
        "id": "voHKcAfRfdNY"
      },
      "source": [
        "# CS412 - Machine Learning - 2021\n",
        "## Homework 1\n",
        "100 pts\n",
        "\n",
        "\n",
        "## Goal\n",
        "\n",
        "The goal of this homework is three-fold:\n",
        "\n",
        "*   Introduction to the machine learning experimental set up \n",
        "*   Gain experience with Decision Tree and k-NN approaches\n",
        "*   Gain experience with the Scikit library\n",
        "\n",
        "## Dataset\n",
        "**MNIST** is a collection of 28x28 grayscale images of digits (0-9); hence each pixel is a gray-level from 0-255. \n",
        "\n",
        "**Download the data from Keras. Reserve 20% of the training data for validation** (no need for cross-validation as you have plenty of data) and **use the rest for development (learning your models). The official test data (10,000 samples) should only be used for testing at the end, and not model selection.**\n",
        "\n",
        "## Task \n",
        "Build a classifier (decision tree and k-NN) with the Scikit library function calls to classify digits in the MNIST dataset.\n",
        "\n",
        "## Software: \n",
        "\n",
        "You may find the necessary function references here: \n",
        "\n",
        "http://scikit-learn.org/stable/supervised_learning.html\n",
        "\n",
        "When you search for decision tree for instance, you should find the relevant function and explained parameters, easily.\n",
        "\n",
        "## Submission: \n",
        "Fill this notebook. Write the report section at the end, removing the part in italics. \n",
        "\n",
        "You should prepare a separate pdf document as your homework (name hw1-CS412-yourname.pdf) which consists of the report (Part 8) of the notebook for easy viewing -and- include a link to your notebook from within the pdf report (make sure to include the link obtained from the #share link on top right). "
      ]
    },
    {
      "cell_type": "markdown",
      "metadata": {
        "id": "_YOYiWvHbNDW"
      },
      "source": [
        "##1) Initialize\n",
        "\n",
        "*   First make a copy of the notebook given to you as a starter.\n",
        "\n",
        "*   Make sure you choose Connect form upper right.\n"
      ]
    },
    {
      "cell_type": "markdown",
      "metadata": {
        "id": "MM-wwHR8qL0M"
      },
      "source": [
        "## 2) Load training dataset\n",
        "\n",
        "*  Read from Keras library.\n",
        "\n"
      ]
    },
    {
      "cell_type": "code",
      "metadata": {
        "id": "vsX8gEbCUqPr",
        "colab": {
          "base_uri": "https://localhost:8080/"
        },
        "outputId": "167a3467-386a-43e5-84ff-586058deb98b"
      },
      "source": [
        "#this cell can be skipped at the running time\n",
        "from keras.datasets import mnist\n",
        "(X_train, Y_train), (X_test, Y_test) = mnist.load_data()\n"
      ],
      "execution_count": null,
      "outputs": [
        {
          "output_type": "stream",
          "name": "stdout",
          "text": [
            "Downloading data from https://storage.googleapis.com/tensorflow/tf-keras-datasets/mnist.npz\n",
            "11493376/11490434 [==============================] - 0s 0us/step\n",
            "11501568/11490434 [==============================] - 0s 0us/step\n"
          ]
        }
      ]
    },
    {
      "cell_type": "code",
      "metadata": {
        "id": "Iz3iMpjVfa5I",
        "colab": {
          "base_uri": "https://localhost:8080/"
        },
        "outputId": "d8ddffbb-752a-40ed-ef32-0d257a230230"
      },
      "source": [
        "# Load the Pandas libraries with alias 'pd' \n",
        "import pandas as pd \n",
        "\n",
        "X_train_size= X_train.shape\n",
        "X_test_size= X_test.shape\n",
        "#use size to reshaping and fitting into 1D numpy array\n",
        "import numpy as np\n",
        "#i used Traindata and Testdata because i did not want to change original dataset. Maybe orginal dataset will be use in future\n",
        "\n",
        "trainData=np.reshape(X_train,(X_train_size[0],X_train_size[1]*X_train_size[2])).astype('float32')\n",
        "testData=np.reshape(X_test,(X_test_size[0],X_test_size[1]*X_test_size[2])).astype('float32')\n",
        "\n",
        "\n",
        "from sklearn.preprocessing import normalize\n",
        "trainData = normalize(trainData)\n",
        "testData = normalize(testData)\n",
        "\n",
        "print(\"Shape of datas\")\n",
        "print(\"TrainData\", trainData.shape)\n",
        "print(\"TestData\", testData.shape)\n",
        "\n",
        "# Read data \n",
        "TrainDF=pd.DataFrame(trainData)\n",
        "TrainDF['Labels']= Y_train\n"
      ],
      "execution_count": null,
      "outputs": [
        {
          "output_type": "stream",
          "name": "stdout",
          "text": [
            "Shape of datas\n",
            "TrainData (60000, 784)\n",
            "TestData (10000, 784)\n"
          ]
        }
      ]
    },
    {
      "cell_type": "markdown",
      "metadata": {
        "id": "8NdW2ItjHLxJ"
      },
      "source": [
        "##3) Understanding the dataset\n",
        "\n",
        "There are alot of functions that can be used to know more about this dataset\n",
        "\n",
        "- What is the shape of the training set (num of samples X number of attributes) ***[shape function can be used]***\n",
        "\n",
        "- Display attribute names ***[columns function can be used]***\n",
        "\n",
        "- Display the first 5 rows from training dataset ***[head or sample functions can be used]***\n",
        "\n",
        ".."
      ]
    },
    {
      "cell_type": "code",
      "metadata": {
        "id": "YP8OtGYNVg0t",
        "colab": {
          "base_uri": "https://localhost:8080/"
        },
        "outputId": "7a899511-0a25-4546-cc16-94f9495dde88"
      },
      "source": [
        "#this cell can be skipped at the running\n",
        "#print attribute names\n",
        "print(TrainDF.columns)"
      ],
      "execution_count": null,
      "outputs": [
        {
          "output_type": "stream",
          "name": "stdout",
          "text": [
            "Index([       0,        1,        2,        3,        4,        5,        6,\n",
            "              7,        8,        9,\n",
            "       ...\n",
            "            775,      776,      777,      778,      779,      780,      781,\n",
            "            782,      783, 'Labels'],\n",
            "      dtype='object', length=785)\n"
          ]
        }
      ]
    },
    {
      "cell_type": "code",
      "metadata": {
        "id": "CA_AjGQasjvS",
        "colab": {
          "base_uri": "https://localhost:8080/"
        },
        "outputId": "30bb07d9-da96-4f34-c21a-3ac70ed248ee"
      },
      "source": [
        "# print shape\n",
        "print('Data Dimensionality: ')\n",
        "print(TrainDF.shape)\n",
        "import numpy as np\n",
        "\n",
        "\n",
        "\n",
        "# print first 5 rows in your dataset\n",
        "print('Head of Data: ')\n",
        "\n",
        "print(TrainDF.head())\n",
        "\n"
      ],
      "execution_count": null,
      "outputs": [
        {
          "output_type": "stream",
          "name": "stdout",
          "text": [
            "Data Dimensionality: \n",
            "(60000, 785)\n",
            "Head of Data: \n",
            "     0    1    2    3    4    5    6  ...  778  779  780  781  782  783  Labels\n",
            "0  0.0  0.0  0.0  0.0  0.0  0.0  0.0  ...  0.0  0.0  0.0  0.0  0.0  0.0       5\n",
            "1  0.0  0.0  0.0  0.0  0.0  0.0  0.0  ...  0.0  0.0  0.0  0.0  0.0  0.0       0\n",
            "2  0.0  0.0  0.0  0.0  0.0  0.0  0.0  ...  0.0  0.0  0.0  0.0  0.0  0.0       4\n",
            "3  0.0  0.0  0.0  0.0  0.0  0.0  0.0  ...  0.0  0.0  0.0  0.0  0.0  0.0       1\n",
            "4  0.0  0.0  0.0  0.0  0.0  0.0  0.0  ...  0.0  0.0  0.0  0.0  0.0  0.0       9\n",
            "\n",
            "[5 rows x 785 columns]\n"
          ]
        }
      ]
    },
    {
      "cell_type": "markdown",
      "metadata": {
        "id": "Vop4rwZVxh9Z"
      },
      "source": [
        "##4) Shuffle and Split TRAINING data as train (also called development) (80%) and validation (20%) "
      ]
    },
    {
      "cell_type": "code",
      "metadata": {
        "id": "KEhk8R24xhdY",
        "colab": {
          "base_uri": "https://localhost:8080/"
        },
        "outputId": "a5f30178-dbff-496b-e206-4e15ef4ca860"
      },
      "source": [
        "from sklearn.utils import shuffle\n",
        "from sklearn.model_selection import train_test_split\n",
        "\n",
        "# Shuffle the training data\n",
        "\n",
        "\n",
        "(train_x, val_x, train_y, val_y) = train_test_split(trainData,Y_train, test_size = 0.2, random_state = 20)\n",
        "\n",
        "print(train_x.shape,train_y.shape)\n",
        "print(val_x.shape,val_y.shape)\n",
        "\n",
        "# Split 80-20\n",
        "print(\"############### exstra ###############\")\n",
        "#exstra\n",
        "#print(train_x)\n",
        "#print(train_y)\n",
        "#print(val_x)\n",
        "#print(val_y)\n",
        "#exstra"
      ],
      "execution_count": null,
      "outputs": [
        {
          "output_type": "stream",
          "name": "stdout",
          "text": [
            "(48000, 784) (48000,)\n",
            "(12000, 784) (12000,)\n",
            "############### exstra ###############\n",
            "[[0. 0. 0. ... 0. 0. 0.]\n",
            " [0. 0. 0. ... 0. 0. 0.]\n",
            " [0. 0. 0. ... 0. 0. 0.]\n",
            " ...\n",
            " [0. 0. 0. ... 0. 0. 0.]\n",
            " [0. 0. 0. ... 0. 0. 0.]\n",
            " [0. 0. 0. ... 0. 0. 0.]]\n",
            "[9 7 0 ... 3 7 2]\n",
            "[[0. 0. 0. ... 0. 0. 0.]\n",
            " [0. 0. 0. ... 0. 0. 0.]\n",
            " [0. 0. 0. ... 0. 0. 0.]\n",
            " ...\n",
            " [0. 0. 0. ... 0. 0. 0.]\n",
            " [0. 0. 0. ... 0. 0. 0.]\n",
            " [0. 0. 0. ... 0. 0. 0.]]\n",
            "[9 5 7 ... 8 1 4]\n"
          ]
        }
      ]
    },
    {
      "cell_type": "markdown",
      "metadata": {
        "id": "xR1oMsPu0AV_"
      },
      "source": [
        "##5) Train decision tree and k-NN  classifiers on development data and do model selection using the validation data\n",
        "\n",
        "\n",
        "* Train a decision tree (try  4 different meta-parameters, varying max_depth and min_samples_split. You should play with different values, maybe 10 or 20 for max-depth and 100 or 200 for min_samples_split) and a k-NN classifier (use k=3 and k=7, do not try other values) with the rest of the parameters set to default. \n",
        "\n",
        "* The aim in this homework is not necessarily obtaining the best performance, but to establish the ML pipeline (train a few models, select based on validation set, test, report).\n"
      ]
    },
    {
      "cell_type": "code",
      "metadata": {
        "id": "Nv6oac-T3Wy5",
        "colab": {
          "base_uri": "https://localhost:8080/"
        },
        "outputId": "ca806045-b2c2-4305-a75d-7373601a8c9f"
      },
      "source": [
        "# Train k-NN classifiers\n",
        "\n",
        "\n",
        "from sklearn.tree import DecisionTreeClassifier\n",
        "from sklearn.metrics import accuracy_score\n",
        "import matplotlib.pyplot as plt\n",
        "\n",
        "#min samples split default is 2 5 10\n",
        "min_samples_split = [2,5,10]\n",
        "\n",
        "\n",
        "for samples in min_samples_split:\n",
        "  clf_min_samples_split = DecisionTreeClassifier(min_samples_split = samples, random_state = 0)\n",
        "  clf_min_samples_split.fit(train_x,train_y)\n",
        "# Evaluate on validation set\n",
        "  y_pred = clf_min_samples_split.predict(val_x)\n",
        "  val_acc = accuracy_score(val_y, y_pred)\n",
        "  print(\"Accuracy Score for validation\",val_acc)\n",
        "  train_y_pred = clf_min_samples_split.predict(train_x)\n",
        "  train_acc = accuracy_score(train_y, train_y_pred)\n",
        "  print(\"Accuracy Score for train\",train_acc)\n",
        "# Report your results    "
      ],
      "execution_count": null,
      "outputs": [
        {
          "output_type": "stream",
          "name": "stdout",
          "text": [
            "Accuracy Score for validation 0.8723333333333333\n",
            "Accuracy Score for train 1.0\n",
            "Accuracy Score for validation 0.8679166666666667\n",
            "Accuracy Score for train 0.9826041666666666\n",
            "Accuracy Score for validation 0.8690833333333333\n",
            "Accuracy Score for train 0.9664166666666667\n"
          ]
        }
      ]
    },
    {
      "cell_type": "code",
      "metadata": {
        "colab": {
          "base_uri": "https://localhost:8080/",
          "height": 279
        },
        "id": "Telpo7qT85ik",
        "outputId": "0f66c414-f746-4d5f-f1e1-6ed514655614"
      },
      "source": [
        "  # Plot errors\n",
        "  #i split plotting because calculating waste to much time\n",
        "x_axis = ['model1', 'model2', 'model3']\n",
        "VAL= [0.8723333333333333,0.8679166666666667,0.8690833333333333]\n",
        "TRAIN= [1 ,0.9826041666666666, 0.9664166666666667]\n",
        "plt.scatter(x_axis, VAL)\n",
        "plt.scatter(x_axis, TRAIN)\n",
        "plt.plot(x_axis, VAL, label = \"Validation acc\")\n",
        "plt.plot(x_axis, TRAIN, label = \"Train acc\")\n",
        "plt.xlabel('Models')\n",
        "plt.ylabel('Accuracy')\n",
        "plt.legend()\n",
        "plt.show()"
      ],
      "execution_count": null,
      "outputs": [
        {
          "output_type": "display_data",
          "data": {
            "image/png": "[encoded data removed]",
            "text/plain": [
              "<Figure size 432x288 with 1 Axes>"
            ]
          },
          "metadata": {
            "needs_background": "light"
          }
        }
      ]
    },
    {
      "cell_type": "markdown",
      "metadata": {
        "id": "3w3lQaMLTBdy"
      },
      "source": [
        "## 6) Test your trained classifiers on the Validation set\n",
        "Test your trained classifiers on the validation set and print the accuracies.\n"
      ]
    },
    {
      "cell_type": "code",
      "metadata": {
        "id": "HR49eNZ0TD0c",
        "colab": {
          "base_uri": "https://localhost:8080/"
        },
        "outputId": "51659f9f-0a7b-4a55-de9a-db6825a5bc94"
      },
      "source": [
        "from sklearn.metrics import accuracy_score\n",
        "\n",
        "# Use misclassification rate as error measure\n",
        "\n",
        "clf = DecisionTreeClassifier(min_samples_split= 2,random_state= 0)\n",
        "clf.fit(trainData,Y_train)\n",
        "\n",
        "\n",
        "\n",
        "\n",
        "# test prediction using a decision tree with all default parameters and ..... min-split value \n",
        "y_pred1 = clf.predict(trainData)\n",
        "\n",
        "\n",
        "\n",
        "# Report your accuracy\n",
        "print(\"Accuracy Score\", accuracy_score(Y_train,y_pred1))\n",
        "\n",
        "\n",
        "# Report your results\n",
        "\n",
        "\n"
      ],
      "execution_count": null,
      "outputs": [
        {
          "output_type": "stream",
          "name": "stdout",
          "text": [
            "Accuracy Score 1.0\n"
          ]
        }
      ]
    },
    {
      "cell_type": "markdown",
      "metadata": {
        "id": "boqe46St1--f"
      },
      "source": [
        "## 7) Test your classifier on Test set\n",
        "\n",
        "- Load test data\n",
        "- Apply same pre-processing as training data (probably none)\n",
        "- Predict the labels of testing data **using the best model that you have selected according to your validation results** and report the accuracy. "
      ]
    },
    {
      "cell_type": "code",
      "metadata": {
        "id": "IPLke8jyFGng",
        "colab": {
          "base_uri": "https://localhost:8080/"
        },
        "outputId": "c53e5ada-52fb-465b-aab9-ee54373c74cf"
      },
      "source": [
        "from sklearn.metrics import accuracy_score\n",
        "# Load test data\n",
        "\n",
        "\n",
        "\n",
        "clf = DecisionTreeClassifier(min_samples_split= 2,random_state= 0)\n",
        "clf.fit(trainData,Y_train)\n",
        "\n",
        "\n",
        "\n",
        "\n",
        "# Predict\n",
        "y_pred2 = clf.predict(testData)\n",
        "\n",
        "\n",
        "\n",
        "# Report your result\n",
        "print(\"Accuracy Score\", accuracy_score(Y_test,y_pred2))\n",
        "\n",
        "\n",
        "\n",
        "\n"
      ],
      "execution_count": null,
      "outputs": [
        {
          "output_type": "stream",
          "name": "stdout",
          "text": [
            "Accuracy Score 0.8813\n"
          ]
        }
      ]
    },
    {
      "cell_type": "markdown",
      "metadata": {
        "id": "WG3473I9dGE8"
      },
      "source": [
        "##8) Report Your Results\n",
        "\n",
        "\n",
        "\n",
        "\n",
        "Classifying grayscale picture by using decision tree.\n",
        "\n",
        "We had dataset from mnist from keras. We reduced it to 1 dimensional from 2-d.\n",
        "So we noramalized it. After these procesess. We splitted it Validation Train and test. We used different function like sample_split or shuffle.\n",
        "\n",
        "\n",
        "Accuracy Score for validation 0.8723333333333333\n",
        "\n",
        "Accuracy Score for train 1.0\n",
        "\n",
        "Accuracy Score for validation 0.8679166666666667\n",
        "\n",
        "Accuracy Score for train 0.9826041666666666\n",
        "\n",
        "Accuracy Score for validation 0.8690833333333333\n",
        "\n",
        "Accuracy Score for train 0.9664166666666667\n",
        "\n",
        "\n",
        " \n",
        "\n",
        "I think this processes going slow.\n",
        "\n",
        "\n",
        " I did not do something which is exstra.\n",
        "\n"
      ]
    }
  ]
}