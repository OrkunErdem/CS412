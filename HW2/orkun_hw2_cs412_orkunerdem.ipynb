{
  "nbformat": 4,
  "nbformat_minor": 5,
  "metadata": {
    "kernelspec": {
      "display_name": "Python 3.7 (tensorflow)",
      "language": "python",
      "name": "tensorflow"
    },
    "language_info": {
      "codemirror_mode": {
        "name": "ipython",
        "version": 3
      },
      "file_extension": ".py",
      "mimetype": "text/x-python",
      "name": "python",
      "nbconvert_exporter": "python",
      "pygments_lexer": "ipython3",
      "version": "3.7.10"
    },
    "colab": {
      "provenance": []
    }
  },
  "cells": [
    {
      "cell_type": "markdown",
      "metadata": {
        "id": "uYuGGS7H6pPA"
      },
      "source": [],
      "id": "uYuGGS7H6pPA"
    },
    {
      "cell_type": "markdown",
      "metadata": {
        "id": "vMzUXgel6No1"
      },
      "source": [
        "# CS412 - Machine Learning - 2021\n",
        "## Homework 2\n",
        "100 pts\n",
        "\n",
        "\n",
        "## Goal\n",
        "\n",
        "The goal of this homework is two-fold:\n",
        "\n",
        "*   Gain experience with neural network approaches\n",
        "*   Gain experience with the Keras library\n",
        "\n",
        "## Dataset\n",
        "You are going to use a house price dataset that we prepared for you, that contains four independent variables (predictors) and one target variable. The task is predicting the target variable (house price) from the predictors (house attributes).\n",
        "\n",
        "\n",
        "Download the data from SuCourse. Reserve 10% of the training data for validation and use the rest for development (learning your models). The official test data we provide (1,200 samples) should only be used for testing at the end, and not model selection.\n",
        "\n",
        "## Task \n",
        "Build a regressor with a neural network that has only one hidden layer, using the Keras library function calls to predict house prices in the provided dataset.\n",
        "\n",
        "Your code should follow the given skeleton and try the indicated parameters.\n",
        "\n",
        "## Preprocessing and Meta-parameters\n",
        "You should try 10,50 and 100 as hidden node count. \n",
        "\n",
        "You should  decide on the learning rate (step size), you can try values such as 0.001, 0.01, 0.1, but you may need to increase if learning is very slow or decrease if you see the loss increase!\n",
        "\n",
        "You can use either sigmoid or Relu activations for the hidden nodes (indicate with your results) and you should know what to use for the activation for the output layer, input, output layer sizes, and the suitable loss function. \n",
        "\n",
        "## Software: \n",
        "\n",
        "Keras is a library that we will use especially for deep learning, but also with basic neural network functionality of course.\n",
        "\n",
        "You may find the necessary function references here: \n",
        "\n",
        "http://scikit-learn.org/stable/supervised_learning.html\n",
        "https://keras.io/api/\n",
        "\n",
        "When you search for Dense for instance, you should find the relevant function and explained parameters, easily.\n",
        "\n",
        "## Submission: \n",
        "\n",
        "Fill this notebook. Write the report section at the end.\n",
        "\n",
        "You should prepare a separate pdf document as your homework (name hw1-CS412-yourname.pdf) which consists of the report (Part 8) of the notebook for easy viewing -and- include a link to your notebook from within the pdf report (make sure to include the link obtained from the #share link on top right, **be sure to share with Sabancı University first** as otherwise there will be access problems.). "
      ],
      "id": "vMzUXgel6No1"
    },
    {
      "cell_type": "markdown",
      "metadata": {
        "id": "cBtSa7Pc8tCn"
      },
      "source": [
        "##1) Initialize\n",
        "\n",
        "*   First make a copy of the notebook given to you as a starter.\n",
        "\n",
        "*   Make sure you choose Connect form upper right.\n"
      ],
      "id": "cBtSa7Pc8tCn"
    },
    {
      "cell_type": "markdown",
      "metadata": {
        "id": "hFNmGxqa9G2O"
      },
      "source": [
        "## 2) Load training dataset\n",
        "\n",
        "* Load the datasets (train.csv, test.csv) provided on SuCourse on your Google drive and read the datasets using Google Drive's mount functions. \n",
        "You may find the necessary functions here: \n",
        "https://colab.research.google.com/notebooks/io.ipynb"
      ],
      "id": "hFNmGxqa9G2O"
    },
    {
      "cell_type": "code",
      "metadata": {
        "id": "nza2i-JK92eu",
        "colab": {
          "base_uri": "https://localhost:8080/"
        },
        "outputId": "869c02b5-5c50-44f7-baf3-4892f693f2b7"
      },
      "source": [
        "from google.colab import drive\n",
        "drive.mount('/content/drive/') \n",
        "# click on the url that pops up and give the necessary authorizations"
      ],
      "id": "nza2i-JK92eu",
      "execution_count": null,
      "outputs": [
        {
          "output_type": "stream",
          "name": "stdout",
          "text": [
            "Mounted at /content/drive/\n"
          ]
        }
      ]
    },
    {
      "cell_type": "markdown",
      "metadata": {
        "id": "s9P--030AOoK"
      },
      "source": [
        "\n",
        "\n",
        "*   Set your notebooks working directory to the path where the datasets are uploaded (cd is the linux command for change directory) \n",
        "*   You may need to use cd drive/MyDrive depending on your path to the datasets on Google Drive. (don't comment the code in the cells when using linux commands)\n",
        "\n",
        "\n",
        "\n",
        "\n"
      ],
      "id": "s9P--030AOoK"
    },
    {
      "cell_type": "code",
      "metadata": {
        "id": "lplqod5D_cf1"
      },
      "source": [
        "import pandas as pd\n",
        "from os.path import join\n",
        "path_prefix = \"/content/drive/My Drive\"\n",
        "\n",
        "#train_df = pd.read_csv(join(path_prefix, 'train.csv'))\n",
        "\n",
        "test_df = pd.read_csv(join(path_prefix, 'test.csv'))"
      ],
      "id": "lplqod5D_cf1",
      "execution_count": null,
      "outputs": []
    },
    {
      "cell_type": "markdown",
      "metadata": {
        "id": "IfMT3IgEAugF"
      },
      "source": [
        "* List the files in the current directory."
      ],
      "id": "IfMT3IgEAugF"
    },
    {
      "cell_type": "code",
      "metadata": {
        "id": "aoopxfoX-VOq",
        "colab": {
          "base_uri": "https://localhost:8080/"
        },
        "outputId": "1dd74e4d-ae52-43c0-b863-2bec1ab41194"
      },
      "source": [
        "ls -a"
      ],
      "id": "aoopxfoX-VOq",
      "execution_count": null,
      "outputs": [
        {
          "output_type": "stream",
          "name": "stdout",
          "text": [
            "\u001b[0m\u001b[01;34m.\u001b[0m/  \u001b[01;34m..\u001b[0m/  \u001b[01;34m.config\u001b[0m/  \u001b[01;34mdrive\u001b[0m/  \u001b[01;34msample_data\u001b[0m/\n"
          ]
        }
      ]
    },
    {
      "cell_type": "markdown",
      "metadata": {
        "id": "fZh3Y5AlBHAs"
      },
      "source": [
        "##3) Understanding the dataset\n",
        "\n",
        "There are alot of functions that can be used to know more about this dataset\n",
        "\n",
        "- What is the shape of the training set (num of samples X number of attributes) ***[shape function can be used]***\n",
        "\n",
        "- Display attribute names ***[columns function can be used]***\n",
        "\n",
        "- Display the first 5 rows from training dataset ***[head or sample functions can be used]***\n",
        "\n",
        ".."
      ],
      "id": "fZh3Y5AlBHAs"
    },
    {
      "cell_type": "code",
      "metadata": {
        "id": "658e2be2",
        "colab": {
          "base_uri": "https://localhost:8080/",
          "height": 363
        },
        "outputId": "9c8619e1-214d-4dd4-c383-bf344392d386"
      },
      "source": [
        "# import the necessary libraries\n",
        "\n",
        "import numpy as np\n",
        "import pandas as pd\n",
        "import matplotlib.pyplot as plt\n",
        "\n",
        "train_df = pd.read_csv(join(path_prefix, 'train.csv'))\n",
        "# show first 10 elements of the training data\n",
        "train_df.drop(['view'], axis=1)\n",
        "train_df.head(10)"
      ],
      "id": "658e2be2",
      "execution_count": null,
      "outputs": [
        {
          "output_type": "execute_result",
          "data": {
            "text/html": [
              "<div>\n",
              "<style scoped>\n",
              "    .dataframe tbody tr th:only-of-type {\n",
              "        vertical-align: middle;\n",
              "    }\n",
              "\n",
              "    .dataframe tbody tr th {\n",
              "        vertical-align: top;\n",
              "    }\n",
              "\n",
              "    .dataframe thead th {\n",
              "        text-align: right;\n",
              "    }\n",
              "</style>\n",
              "<table border=\"1\" class=\"dataframe\">\n",
              "  <thead>\n",
              "    <tr style=\"text-align: right;\">\n",
              "      <th></th>\n",
              "      <th>sqmtrs</th>\n",
              "      <th>nrooms</th>\n",
              "      <th>view</th>\n",
              "      <th>crime_rate</th>\n",
              "      <th>price</th>\n",
              "    </tr>\n",
              "  </thead>\n",
              "  <tbody>\n",
              "    <tr>\n",
              "      <th>0</th>\n",
              "      <td>251</td>\n",
              "      <td>5</td>\n",
              "      <td>west</td>\n",
              "      <td>low</td>\n",
              "      <td>925701.721399</td>\n",
              "    </tr>\n",
              "    <tr>\n",
              "      <th>1</th>\n",
              "      <td>211</td>\n",
              "      <td>3</td>\n",
              "      <td>west</td>\n",
              "      <td>high</td>\n",
              "      <td>622237.482636</td>\n",
              "    </tr>\n",
              "    <tr>\n",
              "      <th>2</th>\n",
              "      <td>128</td>\n",
              "      <td>5</td>\n",
              "      <td>east</td>\n",
              "      <td>low</td>\n",
              "      <td>694998.182376</td>\n",
              "    </tr>\n",
              "    <tr>\n",
              "      <th>3</th>\n",
              "      <td>178</td>\n",
              "      <td>3</td>\n",
              "      <td>east</td>\n",
              "      <td>high</td>\n",
              "      <td>564689.015926</td>\n",
              "    </tr>\n",
              "    <tr>\n",
              "      <th>4</th>\n",
              "      <td>231</td>\n",
              "      <td>3</td>\n",
              "      <td>west</td>\n",
              "      <td>low</td>\n",
              "      <td>811222.970379</td>\n",
              "    </tr>\n",
              "    <tr>\n",
              "      <th>5</th>\n",
              "      <td>253</td>\n",
              "      <td>5</td>\n",
              "      <td>north</td>\n",
              "      <td>high</td>\n",
              "      <td>766250.032506</td>\n",
              "    </tr>\n",
              "    <tr>\n",
              "      <th>6</th>\n",
              "      <td>101</td>\n",
              "      <td>1</td>\n",
              "      <td>north</td>\n",
              "      <td>low</td>\n",
              "      <td>512749.401548</td>\n",
              "    </tr>\n",
              "    <tr>\n",
              "      <th>7</th>\n",
              "      <td>242</td>\n",
              "      <td>1</td>\n",
              "      <td>north</td>\n",
              "      <td>high</td>\n",
              "      <td>637010.760148</td>\n",
              "    </tr>\n",
              "    <tr>\n",
              "      <th>8</th>\n",
              "      <td>174</td>\n",
              "      <td>5</td>\n",
              "      <td>west</td>\n",
              "      <td>high</td>\n",
              "      <td>638136.374869</td>\n",
              "    </tr>\n",
              "    <tr>\n",
              "      <th>9</th>\n",
              "      <td>328</td>\n",
              "      <td>2</td>\n",
              "      <td>south</td>\n",
              "      <td>high</td>\n",
              "      <td>787704.988273</td>\n",
              "    </tr>\n",
              "  </tbody>\n",
              "</table>\n",
              "</div>"
            ],
            "text/plain": [
              "   sqmtrs  nrooms   view crime_rate          price\n",
              "0     251       5   west        low  925701.721399\n",
              "1     211       3   west       high  622237.482636\n",
              "2     128       5   east        low  694998.182376\n",
              "3     178       3   east       high  564689.015926\n",
              "4     231       3   west        low  811222.970379\n",
              "5     253       5  north       high  766250.032506\n",
              "6     101       1  north        low  512749.401548\n",
              "7     242       1  north       high  637010.760148\n",
              "8     174       5   west       high  638136.374869\n",
              "9     328       2  south       high  787704.988273"
            ]
          },
          "metadata": {},
          "execution_count": 63
        }
      ]
    },
    {
      "cell_type": "code",
      "metadata": {
        "id": "12bbf0c6",
        "colab": {
          "base_uri": "https://localhost:8080/"
        },
        "outputId": "28a31248-4ff6-430a-990d-d3770e689d0c"
      },
      "source": [
        "# print the shape of data\n",
        "\n",
        "print(\"Data dimensionality is: \")\n",
        "print(train_df.shape)\n",
        "# also give some statistics about the data like mean, standard deviation etc.\n",
        "print(\"means\")\n",
        "train_df.mean(axis=0)\n"
      ],
      "id": "12bbf0c6",
      "execution_count": null,
      "outputs": [
        {
          "output_type": "stream",
          "name": "stdout",
          "text": [
            "Data dimensionality is: \n",
            "(4800, 5)\n",
            "means\n"
          ]
        },
        {
          "output_type": "execute_result",
          "data": {
            "text/plain": [
              "sqmtrs       225.033542\n",
              "nrooms         2.983958\n",
              "price     725756.960758\n",
              "dtype: float64"
            ]
          },
          "metadata": {},
          "execution_count": 55
        }
      ]
    },
    {
      "cell_type": "code",
      "metadata": {
        "id": "dfe277e0",
        "colab": {
          "base_uri": "https://localhost:8080/"
        },
        "outputId": "a2ad0307-6f2d-4cc9-ba9e-ae304b81636e"
      },
      "source": [
        "print(\"std\")\n",
        "train_df.std(axis=0)"
      ],
      "id": "dfe277e0",
      "execution_count": null,
      "outputs": [
        {
          "output_type": "stream",
          "name": "stdout",
          "text": [
            "std\n"
          ]
        },
        {
          "output_type": "execute_result",
          "data": {
            "text/plain": [
              "sqmtrs        71.851436\n",
              "nrooms         1.421251\n",
              "price     151041.121658\n",
              "dtype: float64"
            ]
          },
          "metadata": {},
          "execution_count": 56
        }
      ]
    },
    {
      "cell_type": "code",
      "metadata": {
        "colab": {
          "base_uri": "https://localhost:8080/",
          "height": 300
        },
        "id": "_zuhvbalZnU2",
        "outputId": "8b25bb45-e873-4044-a18a-af6e7018c047"
      },
      "source": [
        "train_df.describe()"
      ],
      "id": "_zuhvbalZnU2",
      "execution_count": null,
      "outputs": [
        {
          "output_type": "execute_result",
          "data": {
            "text/html": [
              "<div>\n",
              "<style scoped>\n",
              "    .dataframe tbody tr th:only-of-type {\n",
              "        vertical-align: middle;\n",
              "    }\n",
              "\n",
              "    .dataframe tbody tr th {\n",
              "        vertical-align: top;\n",
              "    }\n",
              "\n",
              "    .dataframe thead th {\n",
              "        text-align: right;\n",
              "    }\n",
              "</style>\n",
              "<table border=\"1\" class=\"dataframe\">\n",
              "  <thead>\n",
              "    <tr style=\"text-align: right;\">\n",
              "      <th></th>\n",
              "      <th>sqmtrs</th>\n",
              "      <th>nrooms</th>\n",
              "      <th>price</th>\n",
              "    </tr>\n",
              "  </thead>\n",
              "  <tbody>\n",
              "    <tr>\n",
              "      <th>count</th>\n",
              "      <td>4800.000000</td>\n",
              "      <td>4800.000000</td>\n",
              "      <td>4.800000e+03</td>\n",
              "    </tr>\n",
              "    <tr>\n",
              "      <th>mean</th>\n",
              "      <td>225.033542</td>\n",
              "      <td>2.983958</td>\n",
              "      <td>7.257570e+05</td>\n",
              "    </tr>\n",
              "    <tr>\n",
              "      <th>std</th>\n",
              "      <td>71.851436</td>\n",
              "      <td>1.421251</td>\n",
              "      <td>1.510411e+05</td>\n",
              "    </tr>\n",
              "    <tr>\n",
              "      <th>min</th>\n",
              "      <td>100.000000</td>\n",
              "      <td>1.000000</td>\n",
              "      <td>3.564985e+05</td>\n",
              "    </tr>\n",
              "    <tr>\n",
              "      <th>25%</th>\n",
              "      <td>163.000000</td>\n",
              "      <td>2.000000</td>\n",
              "      <td>6.179536e+05</td>\n",
              "    </tr>\n",
              "    <tr>\n",
              "      <th>50%</th>\n",
              "      <td>226.000000</td>\n",
              "      <td>3.000000</td>\n",
              "      <td>7.292999e+05</td>\n",
              "    </tr>\n",
              "    <tr>\n",
              "      <th>75%</th>\n",
              "      <td>287.000000</td>\n",
              "      <td>4.000000</td>\n",
              "      <td>8.389284e+05</td>\n",
              "    </tr>\n",
              "    <tr>\n",
              "      <th>max</th>\n",
              "      <td>349.000000</td>\n",
              "      <td>5.000000</td>\n",
              "      <td>1.076067e+06</td>\n",
              "    </tr>\n",
              "  </tbody>\n",
              "</table>\n",
              "</div>"
            ],
            "text/plain": [
              "            sqmtrs       nrooms         price\n",
              "count  4800.000000  4800.000000  4.800000e+03\n",
              "mean    225.033542     2.983958  7.257570e+05\n",
              "std      71.851436     1.421251  1.510411e+05\n",
              "min     100.000000     1.000000  3.564985e+05\n",
              "25%     163.000000     2.000000  6.179536e+05\n",
              "50%     226.000000     3.000000  7.292999e+05\n",
              "75%     287.000000     4.000000  8.389284e+05\n",
              "max     349.000000     5.000000  1.076067e+06"
            ]
          },
          "metadata": {},
          "execution_count": 57
        }
      ]
    },
    {
      "cell_type": "code",
      "metadata": {
        "colab": {
          "base_uri": "https://localhost:8080/"
        },
        "id": "UCpsex36KY_v",
        "outputId": "b0deedc1-4fdf-48e2-9497-d23dea8d3203"
      },
      "source": [
        "print(train_df.isnull().sum())\n",
        "print(test_df.isnull().sum())"
      ],
      "id": "UCpsex36KY_v",
      "execution_count": null,
      "outputs": [
        {
          "output_type": "stream",
          "name": "stdout",
          "text": [
            "sqmtrs        0\n",
            "nrooms        0\n",
            "view          0\n",
            "crime_rate    0\n",
            "price         0\n",
            "dtype: int64\n",
            "sqmtrs        0\n",
            "nrooms        0\n",
            "view          0\n",
            "crime_rate    0\n",
            "price         0\n",
            "dtype: int64\n"
          ]
        }
      ]
    },
    {
      "cell_type": "markdown",
      "metadata": {
        "id": "GtBJzQ6NB1Kz"
      },
      "source": [
        "##4) Preprocessing Steps\n",
        "\n",
        "As some of the features (predictive variables) on this dataset are categorical (non-numeric) you need to do some preprocessing for those features.\n",
        "\n",
        "Please read 7-features.pdf under SuCourse for converting categorical variables to dummy variables. You can use as many **dummy or indicator variables** as there are categories within one feature. You can also look at pandas' get_dummies or keras.utils.to_categorical functions.\n",
        "\n",
        "In neural networks, scaling of the features are important, because they affect the net input of a neuron as a whole. You should use **MinMax scaler** on sklearn for this task, which scales the variables between 0 and 1 on by default. (Remember that mean-squared error loss function tends to be extremely large with unscaled features.)\n"
      ],
      "id": "GtBJzQ6NB1Kz"
    },
    {
      "cell_type": "code",
      "metadata": {
        "id": "b505bf7b",
        "colab": {
          "base_uri": "https://localhost:8080/",
          "height": 363
        },
        "outputId": "08b1f2fb-6ac0-4278-bc51-71a9b9066a64"
      },
      "source": [
        "# encode the categorical variables\n",
        "view_map= {'west':0,'east':1,'south':2,'north':3}\n",
        "train_df['view']=train_df['view'].replace(view_map)\n",
        "crime_map= {'low':0,'high':1}\n",
        "train_df['crime_rate']=train_df['crime_rate'].replace(crime_map)\n",
        "train_df.head(10)\n"
      ],
      "id": "b505bf7b",
      "execution_count": null,
      "outputs": [
        {
          "output_type": "execute_result",
          "data": {
            "text/html": [
              "<div>\n",
              "<style scoped>\n",
              "    .dataframe tbody tr th:only-of-type {\n",
              "        vertical-align: middle;\n",
              "    }\n",
              "\n",
              "    .dataframe tbody tr th {\n",
              "        vertical-align: top;\n",
              "    }\n",
              "\n",
              "    .dataframe thead th {\n",
              "        text-align: right;\n",
              "    }\n",
              "</style>\n",
              "<table border=\"1\" class=\"dataframe\">\n",
              "  <thead>\n",
              "    <tr style=\"text-align: right;\">\n",
              "      <th></th>\n",
              "      <th>sqmtrs</th>\n",
              "      <th>nrooms</th>\n",
              "      <th>view</th>\n",
              "      <th>crime_rate</th>\n",
              "      <th>price</th>\n",
              "    </tr>\n",
              "  </thead>\n",
              "  <tbody>\n",
              "    <tr>\n",
              "      <th>0</th>\n",
              "      <td>251</td>\n",
              "      <td>5</td>\n",
              "      <td>0</td>\n",
              "      <td>0</td>\n",
              "      <td>925701.721399</td>\n",
              "    </tr>\n",
              "    <tr>\n",
              "      <th>1</th>\n",
              "      <td>211</td>\n",
              "      <td>3</td>\n",
              "      <td>0</td>\n",
              "      <td>1</td>\n",
              "      <td>622237.482636</td>\n",
              "    </tr>\n",
              "    <tr>\n",
              "      <th>2</th>\n",
              "      <td>128</td>\n",
              "      <td>5</td>\n",
              "      <td>1</td>\n",
              "      <td>0</td>\n",
              "      <td>694998.182376</td>\n",
              "    </tr>\n",
              "    <tr>\n",
              "      <th>3</th>\n",
              "      <td>178</td>\n",
              "      <td>3</td>\n",
              "      <td>1</td>\n",
              "      <td>1</td>\n",
              "      <td>564689.015926</td>\n",
              "    </tr>\n",
              "    <tr>\n",
              "      <th>4</th>\n",
              "      <td>231</td>\n",
              "      <td>3</td>\n",
              "      <td>0</td>\n",
              "      <td>0</td>\n",
              "      <td>811222.970379</td>\n",
              "    </tr>\n",
              "    <tr>\n",
              "      <th>5</th>\n",
              "      <td>253</td>\n",
              "      <td>5</td>\n",
              "      <td>3</td>\n",
              "      <td>1</td>\n",
              "      <td>766250.032506</td>\n",
              "    </tr>\n",
              "    <tr>\n",
              "      <th>6</th>\n",
              "      <td>101</td>\n",
              "      <td>1</td>\n",
              "      <td>3</td>\n",
              "      <td>0</td>\n",
              "      <td>512749.401548</td>\n",
              "    </tr>\n",
              "    <tr>\n",
              "      <th>7</th>\n",
              "      <td>242</td>\n",
              "      <td>1</td>\n",
              "      <td>3</td>\n",
              "      <td>1</td>\n",
              "      <td>637010.760148</td>\n",
              "    </tr>\n",
              "    <tr>\n",
              "      <th>8</th>\n",
              "      <td>174</td>\n",
              "      <td>5</td>\n",
              "      <td>0</td>\n",
              "      <td>1</td>\n",
              "      <td>638136.374869</td>\n",
              "    </tr>\n",
              "    <tr>\n",
              "      <th>9</th>\n",
              "      <td>328</td>\n",
              "      <td>2</td>\n",
              "      <td>2</td>\n",
              "      <td>1</td>\n",
              "      <td>787704.988273</td>\n",
              "    </tr>\n",
              "  </tbody>\n",
              "</table>\n",
              "</div>"
            ],
            "text/plain": [
              "   sqmtrs  nrooms  view  crime_rate          price\n",
              "0     251       5     0           0  925701.721399\n",
              "1     211       3     0           1  622237.482636\n",
              "2     128       5     1           0  694998.182376\n",
              "3     178       3     1           1  564689.015926\n",
              "4     231       3     0           0  811222.970379\n",
              "5     253       5     3           1  766250.032506\n",
              "6     101       1     3           0  512749.401548\n",
              "7     242       1     3           1  637010.760148\n",
              "8     174       5     0           1  638136.374869\n",
              "9     328       2     2           1  787704.988273"
            ]
          },
          "metadata": {},
          "execution_count": 64
        }
      ]
    },
    {
      "cell_type": "code",
      "metadata": {
        "colab": {
          "base_uri": "https://localhost:8080/"
        },
        "id": "F9BXms0YLpJS",
        "outputId": "13dd9170-9b57-47e5-af59-f020c83f4603"
      },
      "source": [
        "print(msc.fit(train_df))\n",
        "print(msc.transform(train_df))"
      ],
      "id": "F9BXms0YLpJS",
      "execution_count": null,
      "outputs": [
        {
          "output_type": "stream",
          "name": "stdout",
          "text": [
            "MinMaxScaler()\n",
            "[[0.6064257  1.         0.         0.         0.7910344 ]\n",
            " [0.44578313 0.5        0.         1.         0.36930338]\n",
            " [0.1124498  1.         0.33333333 0.         0.47042055]\n",
            " ...\n",
            " [0.93975904 0.25       0.         1.         0.59777598]\n",
            " [0.93172691 0.25       1.         1.         0.58652921]\n",
            " [0.57831325 0.75       0.33333333 0.         0.70951032]]\n"
          ]
        }
      ]
    },
    {
      "cell_type": "markdown",
      "metadata": {
        "id": "nnSUvg-OK9FP"
      },
      "source": [
        "Don't forget the split the training data to obtain a validation set. **Use random_state=42**"
      ],
      "id": "nnSUvg-OK9FP"
    },
    {
      "cell_type": "code",
      "metadata": {
        "id": "WufovdxNK8sI"
      },
      "source": [
        "# split 90-10\n",
        "from sklearn.model_selection import train_test_split\n",
        "\n",
        "train,train_valid=train_test_split(train_df,test_size=0.1,random_state=42)\n"
      ],
      "id": "WufovdxNK8sI",
      "execution_count": null,
      "outputs": []
    },
    {
      "cell_type": "markdown",
      "metadata": {
        "id": "hU-_nQ4IFuR3"
      },
      "source": [
        "##5) Train neural networks on development data and do model selection using the validation data\n",
        "\n",
        "\n",
        "* Train a neural network with **one hidden layer** (try 3 different values for the number of neurons in that hidden layer, as 25, 50, 100), you will need to correctly choose the optimizer and the loss function that this model will train with. Use batch_size as 64 and train each model for 30 epochs. \n",
        "\n",
        "* Train another neural network with two hidden layers with meta-parameters of your choice. Again, use batch_size as 64 and train the model for 30 epochs. \n",
        "\n",
        "* **Bonus (5 pts)** Train a KNN or a Decision Tree model with your own choice of meta parameters to predict the house prices.\n"
      ],
      "id": "hU-_nQ4IFuR3"
    },
    {
      "cell_type": "code",
      "metadata": {
        "id": "xuJT1HECQuif"
      },
      "source": [
        "label=train.pop('view')"
      ],
      "id": "xuJT1HECQuif",
      "execution_count": null,
      "outputs": []
    },
    {
      "cell_type": "code",
      "metadata": {
        "id": "bec4fb64",
        "colab": {
          "base_uri": "https://localhost:8080/"
        },
        "outputId": "de2fee85-fbeb-4be5-a5e0-b48317328f3a"
      },
      "source": [
        "# train one-hidden layered neural networks\n",
        "from sklearn.neighbors import KNeighborsClassifier\n",
        "from sklearn.model_selection import cross_val_score\n",
        "from statistics import mean\n",
        "\n",
        "# define your model architecture\n",
        "layer=[25,50,100]\n",
        "def model(a,b):\n",
        "  acc=[]\n",
        "  for k in layer:\n",
        "\n",
        "    knn=KNeighborsClassifier(n_neighbors=k)\n",
        "    scores=cross_val_score(knn, a,b,cv=5,scoring='accuracy')\n",
        "    acc.append(scores.mean())\n",
        "  print(acc)\n",
        "\n",
        "model(train,label)"
      ],
      "id": "bec4fb64",
      "execution_count": null,
      "outputs": [
        {
          "output_type": "stream",
          "name": "stdout",
          "text": [
            "[0.2634259259259259, 0.2743055555555555, 0.2777777777777778]\n"
          ]
        }
      ]
    },
    {
      "cell_type": "code",
      "metadata": {
        "id": "rvsgI7rWI1ST",
        "colab": {
          "base_uri": "https://localhost:8080/"
        },
        "outputId": "1d12df2e-2781-4349-9d4e-b06778fcf083"
      },
      "source": [
        "# compile your model with an optimizer\n",
        "# can not understand optimization\n",
        "# train one-hidden layered neural networks\n",
        "from sklearn.neighbors import KNeighborsClassifier\n",
        "from sklearn.model_selection import cross_val_score\n",
        "from statistics import mean\n",
        "\n",
        "from tensorflow import keras\n",
        "from tensorflow.keras import layers\n",
        "\n",
        "# define your model architecture\n",
        "layer=[25,50,100]\n",
        "def model(a,b):\n",
        "  acc=[]\n",
        "  for k in layer:\n",
        "\n",
        "    knn=KNeighborsClassifier(n_neighbors=k)\n",
        "    scores=cross_val_score(knn, a,b,cv=5,scoring='accuracy')\n",
        "    acc.append(scores.mean())\n",
        "  print(acc)\n",
        "\n",
        "\n",
        "\n",
        "model(train,label)"
      ],
      "id": "rvsgI7rWI1ST",
      "execution_count": null,
      "outputs": [
        {
          "output_type": "stream",
          "name": "stdout",
          "text": [
            "[0.2634259259259259, 0.2743055555555555, 0.2777777777777778]\n"
          ]
        }
      ]
    },
    {
      "cell_type": "code",
      "metadata": {
        "id": "z0LsRGBOJChq",
        "colab": {
          "base_uri": "https://localhost:8080/",
          "height": 396
        },
        "outputId": "0f3822c3-e548-4602-f33c-bdb6f7e6f7a3"
      },
      "source": [
        "# fit the model on training data\n",
        "# train one-hidden layered neural networks\n",
        "from sklearn.neighbors import KNeighborsClassifier\n",
        "from sklearn.metrics import accuracy_score\n",
        "\n",
        "# define your model architecture\n",
        "bestlayer=[100]\n",
        "bestknn=KNeighborsClassifier(n_neighbors=bestlayer)\n",
        "bestknn.fit(train,label)\n",
        "\n",
        "pred=bestknn.predict(test_df)\n",
        "\n",
        "print('acc= ',accuracy_score(label,pred))\n"
      ],
      "id": "z0LsRGBOJChq",
      "execution_count": null,
      "outputs": [
        {
          "output_type": "error",
          "ename": "TypeError",
          "evalue": "ignored",
          "traceback": [
            "\u001b[0;31m---------------------------------------------------------------------------\u001b[0m",
            "\u001b[0;31mTypeError\u001b[0m                                 Traceback (most recent call last)",
            "\u001b[0;32m<ipython-input-107-c7b9f6b1c5c4>\u001b[0m in \u001b[0;36m<module>\u001b[0;34m()\u001b[0m\n\u001b[1;32m      7\u001b[0m \u001b[0mbestlayer\u001b[0m\u001b[0;34m=\u001b[0m\u001b[0;34m[\u001b[0m\u001b[0;36m100\u001b[0m\u001b[0;34m]\u001b[0m\u001b[0;34m\u001b[0m\u001b[0;34m\u001b[0m\u001b[0m\n\u001b[1;32m      8\u001b[0m \u001b[0mbestknn\u001b[0m\u001b[0;34m=\u001b[0m\u001b[0mKNeighborsClassifier\u001b[0m\u001b[0;34m(\u001b[0m\u001b[0mn_neighbors\u001b[0m\u001b[0;34m=\u001b[0m\u001b[0mbestlayer\u001b[0m\u001b[0;34m)\u001b[0m\u001b[0;34m\u001b[0m\u001b[0;34m\u001b[0m\u001b[0m\n\u001b[0;32m----> 9\u001b[0;31m \u001b[0mbestknn\u001b[0m\u001b[0;34m.\u001b[0m\u001b[0mfit\u001b[0m\u001b[0;34m(\u001b[0m\u001b[0mtrain\u001b[0m\u001b[0;34m,\u001b[0m\u001b[0mlabel\u001b[0m\u001b[0;34m)\u001b[0m\u001b[0;34m\u001b[0m\u001b[0;34m\u001b[0m\u001b[0m\n\u001b[0m\u001b[1;32m     10\u001b[0m \u001b[0;34m\u001b[0m\u001b[0m\n\u001b[1;32m     11\u001b[0m \u001b[0mpred\u001b[0m\u001b[0;34m=\u001b[0m\u001b[0mbestknn\u001b[0m\u001b[0;34m.\u001b[0m\u001b[0mpredict\u001b[0m\u001b[0;34m(\u001b[0m\u001b[0mtest_df\u001b[0m\u001b[0;34m)\u001b[0m\u001b[0;34m\u001b[0m\u001b[0;34m\u001b[0m\u001b[0m\n",
            "\u001b[0;32m/usr/local/lib/python3.7/dist-packages/sklearn/neighbors/_classification.py\u001b[0m in \u001b[0;36mfit\u001b[0;34m(self, X, y)\u001b[0m\n\u001b[1;32m    196\u001b[0m         \u001b[0mself\u001b[0m\u001b[0;34m.\u001b[0m\u001b[0mweights\u001b[0m \u001b[0;34m=\u001b[0m \u001b[0m_check_weights\u001b[0m\u001b[0;34m(\u001b[0m\u001b[0mself\u001b[0m\u001b[0;34m.\u001b[0m\u001b[0mweights\u001b[0m\u001b[0;34m)\u001b[0m\u001b[0;34m\u001b[0m\u001b[0;34m\u001b[0m\u001b[0m\n\u001b[1;32m    197\u001b[0m \u001b[0;34m\u001b[0m\u001b[0m\n\u001b[0;32m--> 198\u001b[0;31m         \u001b[0;32mreturn\u001b[0m \u001b[0mself\u001b[0m\u001b[0;34m.\u001b[0m\u001b[0m_fit\u001b[0m\u001b[0;34m(\u001b[0m\u001b[0mX\u001b[0m\u001b[0;34m,\u001b[0m \u001b[0my\u001b[0m\u001b[0;34m)\u001b[0m\u001b[0;34m\u001b[0m\u001b[0;34m\u001b[0m\u001b[0m\n\u001b[0m\u001b[1;32m    199\u001b[0m \u001b[0;34m\u001b[0m\u001b[0m\n\u001b[1;32m    200\u001b[0m     \u001b[0;32mdef\u001b[0m \u001b[0mpredict\u001b[0m\u001b[0;34m(\u001b[0m\u001b[0mself\u001b[0m\u001b[0;34m,\u001b[0m \u001b[0mX\u001b[0m\u001b[0;34m)\u001b[0m\u001b[0;34m:\u001b[0m\u001b[0;34m\u001b[0m\u001b[0;34m\u001b[0m\u001b[0m\n",
            "\u001b[0;32m/usr/local/lib/python3.7/dist-packages/sklearn/neighbors/_base.py\u001b[0m in \u001b[0;36m_fit\u001b[0;34m(self, X, y)\u001b[0m\n\u001b[1;32m    528\u001b[0m                 or (\n\u001b[1;32m    529\u001b[0m                     \u001b[0mself\u001b[0m\u001b[0;34m.\u001b[0m\u001b[0mn_neighbors\u001b[0m \u001b[0;32mis\u001b[0m \u001b[0;32mnot\u001b[0m \u001b[0;32mNone\u001b[0m\u001b[0;34m\u001b[0m\u001b[0;34m\u001b[0m\u001b[0m\n\u001b[0;32m--> 530\u001b[0;31m                     \u001b[0;32mand\u001b[0m \u001b[0mself\u001b[0m\u001b[0;34m.\u001b[0m\u001b[0mn_neighbors\u001b[0m \u001b[0;34m>=\u001b[0m \u001b[0mself\u001b[0m\u001b[0;34m.\u001b[0m\u001b[0m_fit_X\u001b[0m\u001b[0;34m.\u001b[0m\u001b[0mshape\u001b[0m\u001b[0;34m[\u001b[0m\u001b[0;36m0\u001b[0m\u001b[0;34m]\u001b[0m \u001b[0;34m//\u001b[0m \u001b[0;36m2\u001b[0m\u001b[0;34m\u001b[0m\u001b[0;34m\u001b[0m\u001b[0m\n\u001b[0m\u001b[1;32m    531\u001b[0m                 )\n\u001b[1;32m    532\u001b[0m             ):\n",
            "\u001b[0;31mTypeError\u001b[0m: '>=' not supported between instances of 'list' and 'int'"
          ]
        }
      ]
    },
    {
      "cell_type": "code",
      "metadata": {
        "id": "13b3d502"
      },
      "source": [
        "# train a two-hidden layered neural network\n",
        "\n",
        "# ...\n"
      ],
      "id": "13b3d502",
      "execution_count": null,
      "outputs": []
    },
    {
      "cell_type": "markdown",
      "metadata": {
        "id": "4rPGNFqdINTP"
      },
      "source": [
        "## 6) Test your trained classifiers on the Validation set\n",
        "Test your trained classifiers on the validation set and print the mean squared errors.\n"
      ],
      "id": "4rPGNFqdINTP"
    },
    {
      "cell_type": "code",
      "metadata": {
        "id": "9noUcsDJH1Hz"
      },
      "source": [
        "# tests on validation\n",
        "\n",
        "#...\n"
      ],
      "id": "9noUcsDJH1Hz",
      "execution_count": null,
      "outputs": []
    },
    {
      "cell_type": "markdown",
      "metadata": {
        "id": "mojk_4Q9JQkR"
      },
      "source": [
        "## 7) Test your classifier on Test set\n",
        "\n",
        "- Load test data\n",
        "- Apply same pre-processing as training data (encoding categorical variables, scaling)\n",
        "- Predict the labels of testing data **using the best model that you have selected according to your validation results** and report the mean squared error. "
      ],
      "id": "mojk_4Q9JQkR"
    },
    {
      "cell_type": "code",
      "metadata": {
        "id": "5f3558e8"
      },
      "source": [
        "# test results\n"
      ],
      "id": "5f3558e8",
      "execution_count": null,
      "outputs": []
    },
    {
      "cell_type": "code",
      "metadata": {
        "id": "GNn4LWOAJzKT"
      },
      "source": [
        "re NNs"
      ],
      "id": "GNn4LWOAJzKT",
      "execution_count": null,
      "outputs": []
    },
    {
      "cell_type": "markdown",
      "metadata": {
        "id": "Qg0mDfdNJgrd"
      },
      "source": [
        "##8) Report Your Results\n",
        "\n",
        "**Notebook should be RUN:** As training and testing may take a long time, we may just look at your notebook results without running the code again; so make sure **each cell is run**, so outputs are there.\n",
        "\n",
        "**Report:** Write an **1-2 page summary** of your approach to this problem **below**. \n",
        "\n",
        "**Must include statements such as those below:**\n",
        "**(Remove the text in parentheses, below, and include your own report)**\n",
        "\n",
        "( Include the problem definition: 1-2 lines )\n",
        "\n",
        " (Talk about train/val/test sets, size and how split. )\n",
        "\n",
        " (Talk about feature extraction or preprocessing.)\n",
        "\n",
        "**Add your observations as follows** (keep the questions for easy grading/context) in the report part of your notebook.\n",
        "\n",
        "**Observations**\n",
        "\n",
        "- Try a few learning rates for N=25 hidden neurons,  train for the indicated amount of epochs. Comment on what happens when learning rate is large or small? What is a good number/range for the learning rate?\n",
        "Your answer here….\n",
        "\n",
        "- Use that learning rate and vary the number of hidden neurons for the given values and try the indicated number of epochs. Give the validation mean squared errors for different approach and meta-parameters tried **in a table** and state which one you selected as your model. How many hidden neurons give the best model? \n",
        "Your answer here….\n",
        "\n",
        "- State  what your test results are with the chosen approach and meta-parameters: e.g. \"We have obtained the best results on the validation set with the ..........approach using a value of ...... for .... parameter. The result of this model on the test data is ..... % accuracy.\"\" \n",
        "\n",
        "- How slow is learning? Any other problems?\n",
        "Your answer here….\n",
        "\n",
        "- Any other observations (not needed)\n",
        "\n",
        " You can add additional visualization as separate pages if you want, think of them as appendix, keeping the summary to 1-2-pages.\n",
        "\n"
      ],
      "id": "Qg0mDfdNJgrd"
    },
    {
      "cell_type": "code",
      "metadata": {
        "id": "IY3hLbNLJ1sQ"
      },
      "source": [],
      "id": "IY3hLbNLJ1sQ",
      "execution_count": null,
      "outputs": []
    }
  ]
}